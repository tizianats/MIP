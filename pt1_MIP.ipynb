{
 "cells": [
  {
   "cell_type": "markdown",
   "metadata": {
    "id": "x7shefdhB3W3"
   },
   "source": [
    "# Trabajo Práctico 1 - Matrices de Insumo Producto\n",
    "\n",
    "## Enunciado"
   ]
  },
  {
   "cell_type": "code",
   "execution_count": 1,
   "metadata": {
    "id": "naRL3K6lswKF"
   },
   "outputs": [],
   "source": [
    "import numpy as np\n",
    "import scipy.linalg\n",
    "import pandas as pd\n",
    "import matplotlib.pyplot as plt"
   ]
  },
  {
   "cell_type": "markdown",
   "metadata": {
    "id": "1nAAystqHdSY"
   },
   "source": [
    "### Consigna 1 -\n",
    "\n",
    "Analizar qué sucede con la solución del sistema $p = (I − A)^{−1} d = Ld$ en cada uno de los siguientes casos:\n",
    "\n",
    "a) $(I-A)$ es inversible\n",
    "\n",
    "b) $(I-A)$ es inversible y $d$ = 0\n",
    "\n",
    "c) $(I-A)$ no es inversible\n",
    "\n",
    "d) $(I-A)$ no es inversible y $d$ = 0"
   ]
  },
  {
   "cell_type": "markdown",
   "metadata": {
    "id": "FL72t5gZHYNm"
   },
   "source": [
    "Recordamos:\n",
    "- p = es la producción total\n",
    "- L (matriz de Leontief) = representa las relaciones entre sectores dentro de una economía, mostrando cómo los sectores dependen uno de los otros para la producción.\n",
    "- d = representa la demanda externa\n",
    "\n",
    "\n",
    "**(a) $(I - A)$ es inversible**\n",
    "\n",
    "Si la matriz (I - A) es inversible, conseguimos la matriz L (matriz de Leontief), y la solución del sistema va a ser única. Se trata de una economía abierta, hay producción destinada a sectores de demanda externa.\n",
    "\n",
    "**(b) $(I - A)$ es inversible y $d = 0$**\n",
    "\n",
    "No hay demanda externa, por lo que la producción, en base a la ecuación, en principio es 0. Pero la solución de la ecuación no refleja la producción real, porque se trata de una economía cerrada. Esto quiere decir que toda la producción está destinada a los sectores de la demanda interna.\n",
    "\n",
    "**(c) $(I - A)$ no es inversible**\n",
    "\n",
    "Interpretamos que o bien no se puede resolver el sistema (entonces no existe solución y no hay ningún p que satisfaga la demanda d), o bien no hay solución única y en lugar de un único vector p, podrían existir infinitas soluciones. Como la ecuación que estamos analizando tiene la inversa de I - A, al ser I - A no inversible, este cálculo no se podría realizar, por lo que entendemos que no se puede resolver el sistema.\n",
    "\n",
    "**(d) $(I - A)$ no es inversible y $d = 0$**\n",
    "\n",
    "En comparación con el item (c), vemos que d = 0, por lo que esto nos estaría indicando que la multiplicación $(I − A)^{-1} * d$ da igual al vector nulo (incluso teniendo en cuenta que no podemos realizar el cálculo de la inversa de I - A). En este caso hay infinitas soluciones."
   ]
  },
  {
   "cell_type": "markdown",
   "metadata": {
    "id": "Xr-JNt-9jVXw"
   },
   "source": [
    "### Consigna 2\n",
    "\n",
    "Implementar el cálculo de la inversa de la matriz (I−A) aplicando LU. Para ello completar el código de la función calcularLU que se encuentra en el archivo funciones.py del template del TP. Esta función debe devolver las matrices L y U. Luego, completar el código de la otra función inversaLU(L U) que devuelve la inversa final a través de las matrices L U devueltas por la anterior función. Para resolver sistemas, únicamente podrá utilizarse la función scipy.linalg.solve triangular de la biblioteca scipy.linalg que resuelve sistemas triangulares."
   ]
  },
  {
   "cell_type": "code",
   "execution_count": 6,
   "metadata": {
    "colab": {
     "base_uri": "https://localhost:8080/",
     "height": 331
    },
    "id": "CUBpv1EKCo3x",
    "outputId": "07542633-62aa-419f-9eda-1757c63ea7e1"
   },
   "outputs": [],
   "source": [
    "from funciones import calcularLU\n",
    "from funciones import inversaLU"
   ]
  },
  {
   "cell_type": "markdown",
   "metadata": {
    "id": "O_IQWg8ejXAn"
   },
   "source": [
    "### Consigna 3 -\n",
    "\n",
    "Resolver el sistema $p = (I − A)^{−1} d = Ld$ utilizando inversaLU para los siguientes valores de $A$ y $d$:\n",
    "\n",
    "\\begin{equation}\n",
    "A =\n",
    "    \\begin{pmatrix}\n",
    "        0,3 & 0,0 & 0,1\\\\\n",
    "        0,05 & 1,0 & 0,2\\\\\n",
    "        0,1 & 0,15 & 0,1\n",
    "    \\end{pmatrix}\n",
    "\\end{equation}\n",
    "\n",
    "\\begin{equation}\n",
    "d =\n",
    "    \\begin{pmatrix}\n",
    "        100\\\\\n",
    "        100\\\\\n",
    "        300\n",
    "    \\end{pmatrix}\n",
    "\\end{equation}"
   ]
  },
  {
   "cell_type": "code",
   "execution_count": 9,
   "metadata": {
    "colab": {
     "base_uri": "https://localhost:8080/"
    },
    "id": "dIYQXUcihrXY",
    "outputId": "edaa0288-58cb-4797-e2f1-9e99e80a722f"
   },
   "outputs": [],
   "source": [
    "A = np.array([[0.3,0.0,0.1],[0.05,1.0,0.2],[0.1,0.15,0.1]])\n",
    "d = np.array([[100],[100],[300]])\n",
    "I = np.eye(3)\n",
    "B = I-A"
   ]
  },
  {
   "cell_type": "code",
   "execution_count": 11,
   "metadata": {
    "colab": {
     "base_uri": "https://localhost:8080/"
    },
    "id": "zDGLYvoOjwdA",
    "outputId": "9b17baf5-37e0-436a-942b-4c34791bab2b"
   },
   "outputs": [
    {
     "name": "stdout",
     "output_type": "stream",
     "text": [
      "[[   68.96551724]\n",
      " [-5149.42528736]\n",
      " [ -517.24137931]]\n"
     ]
    }
   ],
   "source": [
    "L, U, P = calcularLU(B)\n",
    "Leo = inversaLU(L, U, P)\n",
    "\n",
    "p = Leo@d\n",
    "print(p)"
   ]
  },
  {
   "cell_type": "markdown",
   "metadata": {
    "id": "XScTj7BjZNFr"
   },
   "source": [
    "* ¿Hay una justificación económica de los valores encontrados para $p$?\n",
    "* ¿Cuál es la característica de la matriz que lleva a esta solución?\n",
    "\n",
    "Intuitivamente, entendemos que no tiene sentido que la producción de negativa.\n",
    "\n",
    "Como hay un uno en la posicion 22 de la matriz (fila 2, columna 2), sabemos que se necesita 100% del producto 2 para producir este mismo. Es por esto que cuando hacemos la matriz B (I - A), en la posición 22 vemos que hay un 0. Para la posición 32, vemos que hay un valor negativo, y creemos que esto se debe a que ya estamos utilizando todo el producto 2 disponible, por lo que en principio no habría producto para producir este tercero.\n",
    "\n",
    "Consideramos que esta es la característica por la cual obtenemos resultados negativos al resolver el sistema.\n"
   ]
  },
  {
   "cell_type": "markdown",
   "metadata": {
    "id": "Ak0LKG_MbAYU"
   },
   "source": [
    "### Consigna 4 -\n",
    "\n",
    "Analizar analíticamente qué sucede con la producción total cuando a partir de una demanda externa $d$, la demanda externa para el producto 3 cambia en un $\\Delta d$. La demanda externa se convierte en\n",
    "\n",
    "\\begin{equation}\n",
    "d' = d +\n",
    "    \\begin{pmatrix}\n",
    "        0\\\\\n",
    "        0\\\\\n",
    "        1\n",
    "    \\end{pmatrix}\n",
    "\\end{equation}\n",
    "\n",
    "Obtener la expresión del vector $\\Delta p$ correspondiente a este ejemplo.\n",
    "\n",
    "## Coeficientes técnicos\n",
    "\n",
    "Las matrices $A$ con las que estuvimos trabajando tienen la característica de que son coeficientes técnicos que muestran la relación del flujo de los insumos y los productos. En la práctica, los valores de producción, insumos y los flujos relacionados, compras y ventas pensados en un período de tiempo (por ejemplo un año), están dados en unidades monetarias.\n",
    "\n",
    "Por ejemplo, un Sector 4 que produce un total de producto equivalente a $15.000$, emplea $300$ de bienes del Sector 1: $z_{14}$ = 300 y $p_{4}$ = 15,000. En este caso $a_{14} = z_{14}/p_{4}$ = 300/15,000 = 0,02. Estos coeficientes técnicos se consideran fijos en el sentido de ser una medida de interrelación entre las salidas del sector y las entradas.\n",
    "\n",
    "De forma matricial, teniendo $n$ Sectores, podemos definir\n",
    "\n",
    "\\begin{equation}\n",
    "P =\n",
    "\\begin{pmatrix}\n",
    "p_1 &\\cdots & 0 \\\\\n",
    "\\vdots & \\ddots & \\vdots \\\\\n",
    "0 & \\cdots & p_n\n",
    "\\end{pmatrix}\n",
    "\\end{equation}\n",
    "\n",
    "Luego, la matriz $A = ZP{^{-1}}$"
   ]
  },
  {
   "cell_type": "markdown",
   "metadata": {},
   "source": [
    "Por la consigna tenemos que la nueva demanda (d') se calcula como:\n",
    "\n",
    "\\begin{equation}\n",
    "d' = d + \\Delta d = d + (0,0,1)^t\n",
    "\\end{equation}\n",
    "\n",
    "Entonces:\n",
    "\n",
    "\\begin{equation}\n",
    "p' = (I - A)^{-1}d' = (I - A)^{-1}(d + \\Delta d) = (I - A)^{-1}d + (I - A)^{-1}\\Delta d\n",
    "\\end{equation}\n",
    "\\begin{equation}\n",
    "p' = p + \\Delta p\n",
    "\\end{equation}\n",
    "\\begin{equation}\n",
    "p + \\Delta p = (I - A)^{-1}d + (I - A)^{-1}\\Delta d\n",
    "\\end{equation}\n",
    "\\begin{equation}\n",
    "p = (I - A)^{-1}d\n",
    "\\end{equation}\n",
    "\n",
    "Luego, sabemos por la ecuación (2):\n",
    "\n",
    "\\begin{equation}\n",
    "\\Delta p = (I - A)^{-1}\\Delta d.\n",
    "\\end{equation}\n",
    "\\begin{equation}\n",
    "\\Delta p = (I - A)^{-1} (0,0,1)^t.\n",
    "\\end{equation}\n",
    "\n",
    "Sabiendo que $(I - A)^{-1}$ es la matriz de Leontief."
   ]
  },
  {
   "cell_type": "code",
   "execution_count": 16,
   "metadata": {
    "colab": {
     "base_uri": "https://localhost:8080/"
    },
    "id": "bBcZgpQqZuSb",
    "outputId": "f3b9b6be-4e1b-4cf6-e821-ac115730fde5"
   },
   "outputs": [
    {
     "name": "stdout",
     "output_type": "stream",
     "text": [
      "[[   68.96551724]\n",
      " [-5156.09195402]\n",
      " [ -517.24137931]]\n"
     ]
    }
   ],
   "source": [
    "d_prima = np.array([[100], [100], [301]]) # d + delta_d\n",
    "p_prima = Leo@d_prima\n",
    "print(p_prima)"
   ]
  },
  {
   "cell_type": "code",
   "execution_count": 18,
   "metadata": {},
   "outputs": [
    {
     "name": "stdout",
     "output_type": "stream",
     "text": [
      "[[ 0.        ]\n",
      " [-6.66666667]\n",
      " [ 0.        ]]\n"
     ]
    }
   ],
   "source": [
    "delta_p = p_prima - p\n",
    "print(delta_p)\n",
    "\n",
    "# delta_p es la expresión de la variación de p."
   ]
  },
  {
   "cell_type": "code",
   "execution_count": 20,
   "metadata": {
    "colab": {
     "base_uri": "https://localhost:8080/"
    },
    "id": "prfhtEUIgXcx",
    "outputId": "3ca6784d-c979-42dc-d9af-cf5be1824899"
   },
   "outputs": [
    {
     "name": "stdout",
     "output_type": "stream",
     "text": [
      "[[  1.37931034  -0.68965517   0.        ]\n",
      " [ -2.98850575 -28.50574713  -6.66666667]\n",
      " [ -0.34482759  -4.82758621   0.        ]]\n",
      "[[   68.96551724]\n",
      " [-5149.42528736]\n",
      " [ -517.24137931]]\n"
     ]
    }
   ],
   "source": [
    "print(Leo)\n",
    "print(p)"
   ]
  },
  {
   "cell_type": "markdown",
   "metadata": {
    "id": "pYA2QCKrgTDH"
   },
   "source": [
    "Observamos que el vector de producción cambia en el segundo valor. Le restamos a la producción, la tercera columna de la matriz de Leontief (que vendría a ser nuestro delta p). Esto interpretamos que tiene que ver con que se trata de combinaciones lineales de las columnas. Tiene sentido que se le haya restado la tercer columna, porque incrementamos la demanda con el tercer vector canónico de R3, (0,0,1)"
   ]
  },
  {
   "cell_type": "markdown",
   "metadata": {
    "id": "YV5PS7OwqJLi"
   },
   "source": [
    "### Consigna 5\n",
    "\n",
    "Encontrar los coeficientes técnicos $A$ y la matriz de Leontief para la siguiente\n",
    "economía.\n",
    "\n",
    "\n",
    "|       | S1  | S2  | S3  | Total producido |\n",
    "|-------|-----|-----|-----|-----------------|\n",
    "| S1    | 350 | 0   | 0   | 1000            |\n",
    "| S2    | 50  | 250 | 150 | 500             |\n",
    "| S3    | 200 | 150 | 550 | 1000            |"
   ]
  },
  {
   "cell_type": "code",
   "execution_count": 24,
   "metadata": {
    "colab": {
     "base_uri": "https://localhost:8080/"
    },
    "id": "ebxm5lk2W_by",
    "outputId": "c259051c-aa33-4437-935f-9ea70e450970"
   },
   "outputs": [
    {
     "name": "stdout",
     "output_type": "stream",
     "text": [
      "[[1000.    0.    0.]\n",
      " [   0.  500.    0.]\n",
      " [   0.    0. 1000.]]\n",
      "[[0.35 0.   0.  ]\n",
      " [0.05 0.5  0.15]\n",
      " [0.2  0.3  0.55]]\n"
     ]
    }
   ],
   "source": [
    "# Armamos la matriz P para el total producido (la llamamos P_tp):\n",
    "total_producido = np.array([[1000],[500],[1000]])\n",
    "P_tp = total_producido*np.eye(3)\n",
    "print(P_tp)\n",
    "\n",
    "# y la matriz Z\n",
    "Z = np.array([[350, 0, 0], [50, 250, 150], [200, 150, 550]])\n",
    "\n",
    "L, U, p = calcularLU(P_tp)\n",
    "invP = inversaLU(L, U, p)\n",
    "\n",
    "A = Z@invP\n",
    "print(A)"
   ]
  },
  {
   "cell_type": "code",
   "execution_count": 26,
   "metadata": {
    "colab": {
     "base_uri": "https://localhost:8080/"
    },
    "id": "aQlBj3YxvnmG",
    "outputId": "78c9475a-94a7-4bad-b9a3-c0c3e370d109"
   },
   "outputs": [
    {
     "name": "stdout",
     "output_type": "stream",
     "text": [
      "[[1.53846154 0.         0.        ]\n",
      " [0.44871795 2.5        0.83333333]\n",
      " [0.98290598 1.66666667 2.77777778]]\n"
     ]
    }
   ],
   "source": [
    "# Usamos el 5 porque son las variables de la consigna 5\n",
    "B5 = (I-A)\n",
    "\n",
    "L5, U5, p5 = calcularLU(B5)\n",
    "Leo5 = inversaLU(L5, U5, p5)\n",
    "\n",
    "print(Leo5)"
   ]
  },
  {
   "cell_type": "markdown",
   "metadata": {
    "id": "LjDTN8C9dfzt"
   },
   "source": [
    "## Consigna 6\n",
    "\n",
    "A partir de la fórmula (4) deducir cómo se calcula la variación de la producción en la región $r$ para cubrir una variación de la demanda considerando las relaciones interregionales. Fijando por simplicidad $Δd{^s} = 0$, deducir la siguiente fórmula:\n",
    "\n",
    "\n",
    "$Δp{^r} = (I - A{^r}{^r} - A{^r}{^s}(I - A{^s}{^s}){^1} Δd{^r}$"
   ]
  },
  {
   "cell_type": "markdown",
   "metadata": {
    "id": "8PM5nav9wV7_"
   },
   "source": [
    "Sabiendo que\n",
    "\n",
    "\\begin{equation}\n",
    "\\begin{pmatrix}\n",
    "I & 0 \\\\\n",
    "0 & I\n",
    "\\end{pmatrix} -\n",
    "\\begin{pmatrix}\n",
    "A{^r}{^r} & A{^r}{^s} \\\\\n",
    "A{^s}{^r} & A{^s}{^s}\n",
    "\\end{pmatrix} =  \n",
    "\\begin{pmatrix}\n",
    "I-A{^r}{^r} & -A{^r}{^s} \\\\\n",
    "-A{^s}{^r} & I-A{^s}{^s}\n",
    "\\end{pmatrix}\n",
    "\\end{equation}\n",
    "\n",
    "Luego, sumandole $\\Delta d{^r}$ a la ecuación 4 y con  $\\Delta d{^s} = 0$, tenemos:\n",
    "\n",
    "\\begin{equation}\n",
    "\\begin{pmatrix}\n",
    "I-A{^r}{^r} & -A{^r}{^s} \\\\\n",
    "-A{^s}{^r} & I-A{^s}{^s}\n",
    "\\end{pmatrix}\n",
    "\\begin{pmatrix}\n",
    "p{^r} + \\Delta p{^r} \\\\\n",
    "p{^s} + \\Delta p{^s}\n",
    "\\end{pmatrix} =\n",
    "\\begin{pmatrix}\n",
    "d{^r} + \\Delta d{^r} \\\\\n",
    "d{^s} + 0\n",
    "\\end{pmatrix}\n",
    "\\end{equation}\n",
    "\n",
    "Como queremos averiguar $\\Delta p{^r}$ sacamos las p y d que no tienen $\\Delta$. Esto lo podemos hacer porque son sumas.\n",
    "\n",
    "Entonces nos quedamos con:\n",
    "\n",
    "\\begin{equation}\n",
    "\\begin{pmatrix}\n",
    "I-A{^r}{^r} & -A{^r}{^s} \\\\\n",
    "-A{^s}{^r} & I-A{^s}{^s}\n",
    "\\end{pmatrix}\n",
    "\\begin{pmatrix}\n",
    "\\Delta p{^r} \\\\\n",
    "\\Delta p{^s}\n",
    "\\end{pmatrix} =\n",
    "\\begin{pmatrix}\n",
    "\\Delta d{^r} \\\\\n",
    "0\n",
    "\\end{pmatrix}\n",
    "\\end{equation}\n",
    "\n",
    "Usaremos este ejemplo para justificar la multiplicacion por bloques. Cada numero representa uno de ellos.\n",
    "\\begin{equation}\n",
    "\\begin{pmatrix}\n",
    "1 & 2 \\\\\n",
    "3 & 4\n",
    "\\end{pmatrix}\n",
    "\\begin{pmatrix}\n",
    "5 \\\\\n",
    "6\n",
    "\\end{pmatrix} =\n",
    "\\begin{pmatrix}\n",
    "7 \\\\\n",
    "8\n",
    "\\end{pmatrix}\n",
    "\\end{equation}\n",
    "\n",
    "Esta multiplicacion la podemos hacer porque los bloques 1 y 3 tienen r columnas y el bloque 5 tiene r filas. Esto mismo ocurre entre los bloque 2 y 4, con respecto al 6 (con s columnas y s filas, respectivamente). Entonces sabiendo que las multiplicaciones son de las dimensiones correctas, obtenemos los bloques 7 y 8.\n",
    "\n",
    "Luego, multiplicando las matrices:\n",
    "\n",
    "\\begin{equation}\n",
    "\\begin{pmatrix}\n",
    "(I-A{^r}{^r})\\Delta p{^r} -A{^r}{^s}\\Delta p{^s} \\\\\n",
    "-A{^s}{^r}\\Delta p{^r} + (I-A{^s}{^s})\\Delta p{^s}\n",
    "\\end{pmatrix} =\n",
    "\\begin{pmatrix}\n",
    "\\Delta d{^r} \\\\\n",
    "0\n",
    "\\end{pmatrix}\n",
    "\\end{equation}\n",
    "\n",
    "De donde podemos quedarnos con dos ecuaciones:\n",
    "\n",
    "\\begin{equation}\n",
    "(I-A{^r}{^r})\\Delta p{^r} -A{^r}{^s}\\Delta p{^s} = \\Delta d{^r}\n",
    "\\end{equation}\n",
    "\\begin{equation}\n",
    "-A{^s}{^r}\\Delta p{^r} + (I-A{^s}{^s})\\Delta p{^s} = 0\n",
    "\\end{equation}\n",
    "\n",
    "Despejamos $\\Delta p{^s}$ de la segunda ecuacion:\n",
    "\n",
    "\\begin{equation}\n",
    "\\Delta p{^s} = (I-A{^s}{^s}){^{-1}} A{^s}{^r}\\Delta p{^r}\n",
    "\\end{equation}\n",
    "\n",
    "La metemos en la primera ecuación y obtenemos:\n",
    "\n",
    "\\begin{equation}\n",
    "(I-A{^r}{^r})\\Delta p{^r} -A{^r}{^s}(I-A{^s}{^s}){^{-1}} A{^s}{^r}\\Delta p{^r} = \\Delta d{^r}\n",
    "\\end{equation}\n",
    "\\begin{equation}\n",
    "((I-A{^r}{^r}) -A{^r}{^s}(I-A{^s}{^s}){^{-1}} A{^s}{^r})\\Delta p{^r} = \\Delta d{^r}\n",
    "\\end{equation}\n",
    "\\begin{equation}\n",
    "\\Delta p{^r} = ((I-A{^r}{^r}) -A{^r}{^s}(I-A{^s}{^s}){^{-1}} A{^s}{^r}){^{-1}}\\Delta d{^r}\n",
    "\\end{equation}\n",
    "\n",
    "Y así llegamos al resultado que queríamos!"
   ]
  },
  {
   "cell_type": "markdown",
   "metadata": {
    "id": "s-eRNDyMkWPH"
   },
   "source": [
    "## Consigna 7\n",
    "\n",
    "Países que nos tocaron: ('URY', 'HND')\n",
    "\n",
    "* Generar la matriz de Insumo-Producto de las dos regiones.\n",
    "* Calcular los coeficientes técnicos para cada bloque en sus submatrices intra-regionales e inter-regionales de la $A$ total.\n",
    "* Simular un shock negativo sobre el sector $s05$ del 10% del total del sector, y un shock positivo del 3.3% del total de cada uno de los siguientes sectores: $s06$, $s07$ y $s08$. Todos estos shocks se produen en el país P1: Uruguay.\n",
    "* Analizar cómo se modifica la producción cuando se considera el modelo de región simple (ecuación 5: $Δp{^r} = (I - A{^r}{^r}){^-1} Δd{^r}$) y cuando se considera la fórmila completa de las dos regiones (ecuación 6: $\\Delta p{^r} = ((I-A{^r}{^r}) -A{^r}{^s}(I-A{^s}{^s}){^{-1}} A{^s}{^r}){^{-1}}\\Delta d{^r}$).   "
   ]
  },
  {
   "cell_type": "code",
   "execution_count": 31,
   "metadata": {
    "id": "vHf7v_Z7mOvx"
   },
   "outputs": [],
   "source": [
    "matriz = pd.read_excel(\"matrizlatina2011_compressed_0.xlsx\", \"LAC_IOT_2011\")"
   ]
  },
  {
   "cell_type": "code",
   "execution_count": 32,
   "metadata": {
    "colab": {
     "base_uri": "https://localhost:8080/",
     "height": 516
    },
    "id": "AwOUNrQmBhPH",
    "outputId": "3eb07cb5-ee3f-4217-9866-376897cfd51c",
    "scrolled": true
   },
   "outputs": [
    {
     "data": {
      "text/html": [
       "<div>\n",
       "<style scoped>\n",
       "    .dataframe tbody tr th:only-of-type {\n",
       "        vertical-align: middle;\n",
       "    }\n",
       "\n",
       "    .dataframe tbody tr th {\n",
       "        vertical-align: top;\n",
       "    }\n",
       "\n",
       "    .dataframe thead th {\n",
       "        text-align: right;\n",
       "    }\n",
       "</style>\n",
       "<table border=\"1\" class=\"dataframe\">\n",
       "  <thead>\n",
       "    <tr style=\"text-align: right;\">\n",
       "      <th></th>\n",
       "      <th>Country_iso3</th>\n",
       "      <th>Nosector</th>\n",
       "      <th>Sector</th>\n",
       "      <th>ARGs1</th>\n",
       "      <th>ARGs2</th>\n",
       "      <th>ARGs3</th>\n",
       "      <th>ARGs4</th>\n",
       "      <th>ARGs5</th>\n",
       "      <th>ARGs6</th>\n",
       "      <th>ARGs7</th>\n",
       "      <th>...</th>\n",
       "      <th>EXP_MDV</th>\n",
       "      <th>EXP_NPL</th>\n",
       "      <th>EXP_TUR</th>\n",
       "      <th>EXP_PAK</th>\n",
       "      <th>EXP_LKA</th>\n",
       "      <th>EXP_CUB</th>\n",
       "      <th>EXP_SUR</th>\n",
       "      <th>EXP_ROW</th>\n",
       "      <th>Adjustment</th>\n",
       "      <th>Output</th>\n",
       "    </tr>\n",
       "  </thead>\n",
       "  <tbody>\n",
       "    <tr>\n",
       "      <th>0</th>\n",
       "      <td>ARG</td>\n",
       "      <td>s01</td>\n",
       "      <td>Agriculture and forestry</td>\n",
       "      <td>9725.566485</td>\n",
       "      <td>18.369597</td>\n",
       "      <td>0.000000</td>\n",
       "      <td>0.000000</td>\n",
       "      <td>11890.682268</td>\n",
       "      <td>2331.532300</td>\n",
       "      <td>594.552280</td>\n",
       "      <td>...</td>\n",
       "      <td>0.000000</td>\n",
       "      <td>0.865281</td>\n",
       "      <td>132.020508</td>\n",
       "      <td>2.572569</td>\n",
       "      <td>0.0</td>\n",
       "      <td>30.970039</td>\n",
       "      <td>0.011896</td>\n",
       "      <td>2403.097412</td>\n",
       "      <td>-1695.114624</td>\n",
       "      <td>64585.080680</td>\n",
       "    </tr>\n",
       "    <tr>\n",
       "      <th>1</th>\n",
       "      <td>ARG</td>\n",
       "      <td>s02</td>\n",
       "      <td>Hunting and fishing</td>\n",
       "      <td>13.820241</td>\n",
       "      <td>0.062689</td>\n",
       "      <td>0.000000</td>\n",
       "      <td>0.000000</td>\n",
       "      <td>1.253285</td>\n",
       "      <td>2.774203</td>\n",
       "      <td>0.445318</td>\n",
       "      <td>...</td>\n",
       "      <td>0.000000</td>\n",
       "      <td>0.000000</td>\n",
       "      <td>0.161072</td>\n",
       "      <td>0.000000</td>\n",
       "      <td>0.0</td>\n",
       "      <td>0.000000</td>\n",
       "      <td>0.000000</td>\n",
       "      <td>0.815166</td>\n",
       "      <td>5.434752</td>\n",
       "      <td>1430.287291</td>\n",
       "    </tr>\n",
       "    <tr>\n",
       "      <th>2</th>\n",
       "      <td>ARG</td>\n",
       "      <td>s03</td>\n",
       "      <td>Mining and quarrying (energy)</td>\n",
       "      <td>6.095956</td>\n",
       "      <td>0.140437</td>\n",
       "      <td>2238.394196</td>\n",
       "      <td>47.503210</td>\n",
       "      <td>0.522333</td>\n",
       "      <td>0.618710</td>\n",
       "      <td>0.165520</td>\n",
       "      <td>...</td>\n",
       "      <td>0.000000</td>\n",
       "      <td>0.000000</td>\n",
       "      <td>0.000000</td>\n",
       "      <td>0.000000</td>\n",
       "      <td>0.0</td>\n",
       "      <td>0.000000</td>\n",
       "      <td>0.000000</td>\n",
       "      <td>0.000000</td>\n",
       "      <td>1847.147827</td>\n",
       "      <td>23964.065765</td>\n",
       "    </tr>\n",
       "    <tr>\n",
       "      <th>3</th>\n",
       "      <td>ARG</td>\n",
       "      <td>s04</td>\n",
       "      <td>Mining and quarrying (non-energy)</td>\n",
       "      <td>0.000000</td>\n",
       "      <td>0.687199</td>\n",
       "      <td>295.194361</td>\n",
       "      <td>470.706336</td>\n",
       "      <td>1.140358</td>\n",
       "      <td>13.123509</td>\n",
       "      <td>1.914597</td>\n",
       "      <td>...</td>\n",
       "      <td>0.000000</td>\n",
       "      <td>0.000000</td>\n",
       "      <td>0.000000</td>\n",
       "      <td>0.000000</td>\n",
       "      <td>0.0</td>\n",
       "      <td>0.019760</td>\n",
       "      <td>0.000000</td>\n",
       "      <td>0.432800</td>\n",
       "      <td>355.133514</td>\n",
       "      <td>7486.322979</td>\n",
       "    </tr>\n",
       "    <tr>\n",
       "      <th>4</th>\n",
       "      <td>ARG</td>\n",
       "      <td>s05</td>\n",
       "      <td>Meat and meat products; dairy products</td>\n",
       "      <td>23.017536</td>\n",
       "      <td>0.009325</td>\n",
       "      <td>0.505593</td>\n",
       "      <td>0.040398</td>\n",
       "      <td>356.730934</td>\n",
       "      <td>88.047795</td>\n",
       "      <td>15.017792</td>\n",
       "      <td>...</td>\n",
       "      <td>0.035902</td>\n",
       "      <td>0.000000</td>\n",
       "      <td>0.131605</td>\n",
       "      <td>0.547536</td>\n",
       "      <td>0.0</td>\n",
       "      <td>3.120524</td>\n",
       "      <td>0.039276</td>\n",
       "      <td>414.973785</td>\n",
       "      <td>-30.369465</td>\n",
       "      <td>17628.831707</td>\n",
       "    </tr>\n",
       "  </tbody>\n",
       "</table>\n",
       "<p>5 rows × 798 columns</p>\n",
       "</div>"
      ],
      "text/plain": [
       "  Country_iso3 Nosector                                  Sector        ARGs1  \\\n",
       "0          ARG      s01                Agriculture and forestry  9725.566485   \n",
       "1          ARG      s02                     Hunting and fishing    13.820241   \n",
       "2          ARG      s03           Mining and quarrying (energy)     6.095956   \n",
       "3          ARG      s04       Mining and quarrying (non-energy)     0.000000   \n",
       "4          ARG      s05  Meat and meat products; dairy products    23.017536   \n",
       "\n",
       "       ARGs2        ARGs3       ARGs4         ARGs5        ARGs6       ARGs7  \\\n",
       "0  18.369597     0.000000    0.000000  11890.682268  2331.532300  594.552280   \n",
       "1   0.062689     0.000000    0.000000      1.253285     2.774203    0.445318   \n",
       "2   0.140437  2238.394196   47.503210      0.522333     0.618710    0.165520   \n",
       "3   0.687199   295.194361  470.706336      1.140358    13.123509    1.914597   \n",
       "4   0.009325     0.505593    0.040398    356.730934    88.047795   15.017792   \n",
       "\n",
       "   ...   EXP_MDV   EXP_NPL     EXP_TUR   EXP_PAK  EXP_LKA    EXP_CUB  \\\n",
       "0  ...  0.000000  0.865281  132.020508  2.572569      0.0  30.970039   \n",
       "1  ...  0.000000  0.000000    0.161072  0.000000      0.0   0.000000   \n",
       "2  ...  0.000000  0.000000    0.000000  0.000000      0.0   0.000000   \n",
       "3  ...  0.000000  0.000000    0.000000  0.000000      0.0   0.019760   \n",
       "4  ...  0.035902  0.000000    0.131605  0.547536      0.0   3.120524   \n",
       "\n",
       "    EXP_SUR      EXP_ROW   Adjustment        Output  \n",
       "0  0.011896  2403.097412 -1695.114624  64585.080680  \n",
       "1  0.000000     0.815166     5.434752   1430.287291  \n",
       "2  0.000000     0.000000  1847.147827  23964.065765  \n",
       "3  0.000000     0.432800   355.133514   7486.322979  \n",
       "4  0.039276   414.973785   -30.369465  17628.831707  \n",
       "\n",
       "[5 rows x 798 columns]"
      ]
     },
     "execution_count": 32,
     "metadata": {},
     "output_type": "execute_result"
    }
   ],
   "source": [
    "matriz.head()"
   ]
  },
  {
   "cell_type": "code",
   "execution_count": 33,
   "metadata": {
    "colab": {
     "base_uri": "https://localhost:8080/",
     "height": 617
    },
    "id": "8ZCEzrmI-jAv",
    "outputId": "5d0151e5-a338-4e64-dc68-e4bb6dbfb235"
   },
   "outputs": [],
   "source": [
    "filasuh = matriz[(matriz[\"Country_iso3\"] == \"URY\") | (matriz[\"Country_iso3\"] == \"HND\")]"
   ]
  },
  {
   "cell_type": "code",
   "execution_count": 34,
   "metadata": {
    "colab": {
     "base_uri": "https://localhost:8080/",
     "height": 444
    },
    "id": "3w2FTeI0_ryD",
    "outputId": "8293399b-8ad7-4232-d621-e4125d3c262c",
    "scrolled": true
   },
   "outputs": [
    {
     "data": {
      "text/html": [
       "<div>\n",
       "<style scoped>\n",
       "    .dataframe tbody tr th:only-of-type {\n",
       "        vertical-align: middle;\n",
       "    }\n",
       "\n",
       "    .dataframe tbody tr th {\n",
       "        vertical-align: top;\n",
       "    }\n",
       "\n",
       "    .dataframe thead th {\n",
       "        text-align: right;\n",
       "    }\n",
       "</style>\n",
       "<table border=\"1\" class=\"dataframe\">\n",
       "  <thead>\n",
       "    <tr style=\"text-align: right;\">\n",
       "      <th></th>\n",
       "      <th>URYs1</th>\n",
       "      <th>URYs2</th>\n",
       "      <th>URYs3</th>\n",
       "      <th>URYs4</th>\n",
       "      <th>URYs5</th>\n",
       "      <th>URYs6</th>\n",
       "      <th>URYs7</th>\n",
       "      <th>URYs8</th>\n",
       "      <th>URYs9</th>\n",
       "      <th>URYs10</th>\n",
       "      <th>...</th>\n",
       "      <th>HNDs32</th>\n",
       "      <th>HNDs33</th>\n",
       "      <th>HNDs34</th>\n",
       "      <th>HNDs35</th>\n",
       "      <th>HNDs36</th>\n",
       "      <th>HNDs37</th>\n",
       "      <th>HNDs38</th>\n",
       "      <th>HNDs39</th>\n",
       "      <th>HNDs40</th>\n",
       "      <th>Output</th>\n",
       "    </tr>\n",
       "  </thead>\n",
       "  <tbody>\n",
       "    <tr>\n",
       "      <th>320</th>\n",
       "      <td>486.067204</td>\n",
       "      <td>0.0</td>\n",
       "      <td>0.0</td>\n",
       "      <td>3.755586e-02</td>\n",
       "      <td>1.825140e+03</td>\n",
       "      <td>411.655291</td>\n",
       "      <td>5.395932e+00</td>\n",
       "      <td>853.014767</td>\n",
       "      <td>89.621480</td>\n",
       "      <td>1.296646e+01</td>\n",
       "      <td>...</td>\n",
       "      <td>0.0</td>\n",
       "      <td>0.000000</td>\n",
       "      <td>0.000000</td>\n",
       "      <td>0.000000</td>\n",
       "      <td>0.000000</td>\n",
       "      <td>0.000000</td>\n",
       "      <td>0.000000</td>\n",
       "      <td>0.000000</td>\n",
       "      <td>0.000000</td>\n",
       "      <td>7162.152659</td>\n",
       "    </tr>\n",
       "    <tr>\n",
       "      <th>321</th>\n",
       "      <td>0.000000</td>\n",
       "      <td>0.0</td>\n",
       "      <td>0.0</td>\n",
       "      <td>0.000000e+00</td>\n",
       "      <td>1.074056e-03</td>\n",
       "      <td>0.000176</td>\n",
       "      <td>3.000000e-09</td>\n",
       "      <td>81.137823</td>\n",
       "      <td>0.000000</td>\n",
       "      <td>0.000000e+00</td>\n",
       "      <td>...</td>\n",
       "      <td>0.0</td>\n",
       "      <td>0.000000</td>\n",
       "      <td>0.000000</td>\n",
       "      <td>0.000000</td>\n",
       "      <td>0.000000</td>\n",
       "      <td>0.000000</td>\n",
       "      <td>0.000000</td>\n",
       "      <td>0.000000</td>\n",
       "      <td>0.000000</td>\n",
       "      <td>96.356628</td>\n",
       "    </tr>\n",
       "    <tr>\n",
       "      <th>322</th>\n",
       "      <td>0.000000</td>\n",
       "      <td>0.0</td>\n",
       "      <td>0.0</td>\n",
       "      <td>0.000000e+00</td>\n",
       "      <td>0.000000e+00</td>\n",
       "      <td>0.000000</td>\n",
       "      <td>0.000000e+00</td>\n",
       "      <td>0.000000</td>\n",
       "      <td>0.000000</td>\n",
       "      <td>0.000000e+00</td>\n",
       "      <td>...</td>\n",
       "      <td>0.0</td>\n",
       "      <td>0.000000</td>\n",
       "      <td>0.000000</td>\n",
       "      <td>0.000000</td>\n",
       "      <td>0.000000</td>\n",
       "      <td>0.000000</td>\n",
       "      <td>0.000000</td>\n",
       "      <td>0.000000</td>\n",
       "      <td>0.000000</td>\n",
       "      <td>0.000000</td>\n",
       "    </tr>\n",
       "    <tr>\n",
       "      <th>323</th>\n",
       "      <td>0.000000</td>\n",
       "      <td>0.0</td>\n",
       "      <td>0.0</td>\n",
       "      <td>1.462455e+01</td>\n",
       "      <td>6.009839e-01</td>\n",
       "      <td>0.496378</td>\n",
       "      <td>4.194290e-02</td>\n",
       "      <td>0.276108</td>\n",
       "      <td>1.008360</td>\n",
       "      <td>1.458897e-01</td>\n",
       "      <td>...</td>\n",
       "      <td>0.0</td>\n",
       "      <td>0.000000</td>\n",
       "      <td>0.000000</td>\n",
       "      <td>0.000000</td>\n",
       "      <td>0.000000</td>\n",
       "      <td>0.000000</td>\n",
       "      <td>0.000000</td>\n",
       "      <td>0.000000</td>\n",
       "      <td>0.000000</td>\n",
       "      <td>356.350622</td>\n",
       "    </tr>\n",
       "    <tr>\n",
       "      <th>324</th>\n",
       "      <td>0.000000</td>\n",
       "      <td>0.0</td>\n",
       "      <td>0.0</td>\n",
       "      <td>0.000000e+00</td>\n",
       "      <td>1.527977e+02</td>\n",
       "      <td>43.620512</td>\n",
       "      <td>1.740193e-01</td>\n",
       "      <td>15.841509</td>\n",
       "      <td>0.000000</td>\n",
       "      <td>0.000000e+00</td>\n",
       "      <td>...</td>\n",
       "      <td>0.0</td>\n",
       "      <td>0.000000</td>\n",
       "      <td>0.000000</td>\n",
       "      <td>0.000000</td>\n",
       "      <td>0.000000</td>\n",
       "      <td>0.000000</td>\n",
       "      <td>0.000000</td>\n",
       "      <td>0.000000</td>\n",
       "      <td>0.000000</td>\n",
       "      <td>3136.101515</td>\n",
       "    </tr>\n",
       "    <tr>\n",
       "      <th>...</th>\n",
       "      <td>...</td>\n",
       "      <td>...</td>\n",
       "      <td>...</td>\n",
       "      <td>...</td>\n",
       "      <td>...</td>\n",
       "      <td>...</td>\n",
       "      <td>...</td>\n",
       "      <td>...</td>\n",
       "      <td>...</td>\n",
       "      <td>...</td>\n",
       "      <td>...</td>\n",
       "      <td>...</td>\n",
       "      <td>...</td>\n",
       "      <td>...</td>\n",
       "      <td>...</td>\n",
       "      <td>...</td>\n",
       "      <td>...</td>\n",
       "      <td>...</td>\n",
       "      <td>...</td>\n",
       "      <td>...</td>\n",
       "      <td>...</td>\n",
       "    </tr>\n",
       "    <tr>\n",
       "      <th>555</th>\n",
       "      <td>0.000037</td>\n",
       "      <td>0.0</td>\n",
       "      <td>0.0</td>\n",
       "      <td>5.010000e-07</td>\n",
       "      <td>1.330100e-05</td>\n",
       "      <td>0.000050</td>\n",
       "      <td>1.380000e-06</td>\n",
       "      <td>0.000014</td>\n",
       "      <td>0.000009</td>\n",
       "      <td>1.291000e-06</td>\n",
       "      <td>...</td>\n",
       "      <td>0.0</td>\n",
       "      <td>2.649743</td>\n",
       "      <td>12.326201</td>\n",
       "      <td>18.620325</td>\n",
       "      <td>23.362732</td>\n",
       "      <td>7.437450</td>\n",
       "      <td>7.658895</td>\n",
       "      <td>2.751644</td>\n",
       "      <td>92.758600</td>\n",
       "      <td>1339.280794</td>\n",
       "    </tr>\n",
       "    <tr>\n",
       "      <th>556</th>\n",
       "      <td>0.000000</td>\n",
       "      <td>0.0</td>\n",
       "      <td>0.0</td>\n",
       "      <td>0.000000e+00</td>\n",
       "      <td>9.120400e-05</td>\n",
       "      <td>0.000000</td>\n",
       "      <td>0.000000e+00</td>\n",
       "      <td>0.000000</td>\n",
       "      <td>0.000000</td>\n",
       "      <td>0.000000e+00</td>\n",
       "      <td>...</td>\n",
       "      <td>0.0</td>\n",
       "      <td>0.963740</td>\n",
       "      <td>1.014234</td>\n",
       "      <td>1.396444</td>\n",
       "      <td>20.384268</td>\n",
       "      <td>152.695989</td>\n",
       "      <td>28.581332</td>\n",
       "      <td>5.049501</td>\n",
       "      <td>107.962132</td>\n",
       "      <td>1072.083390</td>\n",
       "    </tr>\n",
       "    <tr>\n",
       "      <th>557</th>\n",
       "      <td>0.000000</td>\n",
       "      <td>0.0</td>\n",
       "      <td>0.0</td>\n",
       "      <td>0.000000e+00</td>\n",
       "      <td>3.380000e-07</td>\n",
       "      <td>0.000000</td>\n",
       "      <td>0.000000e+00</td>\n",
       "      <td>0.000000</td>\n",
       "      <td>0.000000</td>\n",
       "      <td>0.000000e+00</td>\n",
       "      <td>...</td>\n",
       "      <td>0.0</td>\n",
       "      <td>2.642135</td>\n",
       "      <td>14.830566</td>\n",
       "      <td>12.494599</td>\n",
       "      <td>15.651193</td>\n",
       "      <td>19.860812</td>\n",
       "      <td>227.233277</td>\n",
       "      <td>15.026026</td>\n",
       "      <td>125.462728</td>\n",
       "      <td>1845.478262</td>\n",
       "    </tr>\n",
       "    <tr>\n",
       "      <th>558</th>\n",
       "      <td>0.000000</td>\n",
       "      <td>0.0</td>\n",
       "      <td>0.0</td>\n",
       "      <td>3.431530e-04</td>\n",
       "      <td>2.300000e-07</td>\n",
       "      <td>0.000127</td>\n",
       "      <td>1.312069e-03</td>\n",
       "      <td>0.003952</td>\n",
       "      <td>0.000089</td>\n",
       "      <td>1.286100e-05</td>\n",
       "      <td>...</td>\n",
       "      <td>0.0</td>\n",
       "      <td>3.939286</td>\n",
       "      <td>26.076691</td>\n",
       "      <td>1.037599</td>\n",
       "      <td>9.339317</td>\n",
       "      <td>41.241612</td>\n",
       "      <td>67.793374</td>\n",
       "      <td>20.867091</td>\n",
       "      <td>224.792542</td>\n",
       "      <td>1647.550113</td>\n",
       "    </tr>\n",
       "    <tr>\n",
       "      <th>559</th>\n",
       "      <td>0.000000</td>\n",
       "      <td>0.0</td>\n",
       "      <td>0.0</td>\n",
       "      <td>4.000000e-08</td>\n",
       "      <td>5.639000e-06</td>\n",
       "      <td>0.000002</td>\n",
       "      <td>8.950000e-07</td>\n",
       "      <td>0.000003</td>\n",
       "      <td>0.000005</td>\n",
       "      <td>7.590000e-07</td>\n",
       "      <td>...</td>\n",
       "      <td>0.0</td>\n",
       "      <td>11.799326</td>\n",
       "      <td>69.101794</td>\n",
       "      <td>76.451272</td>\n",
       "      <td>79.587389</td>\n",
       "      <td>73.786786</td>\n",
       "      <td>67.967766</td>\n",
       "      <td>39.838782</td>\n",
       "      <td>532.045787</td>\n",
       "      <td>9156.366631</td>\n",
       "    </tr>\n",
       "  </tbody>\n",
       "</table>\n",
       "<p>80 rows × 81 columns</p>\n",
       "</div>"
      ],
      "text/plain": [
       "          URYs1  URYs2  URYs3         URYs4         URYs5       URYs6  \\\n",
       "320  486.067204    0.0    0.0  3.755586e-02  1.825140e+03  411.655291   \n",
       "321    0.000000    0.0    0.0  0.000000e+00  1.074056e-03    0.000176   \n",
       "322    0.000000    0.0    0.0  0.000000e+00  0.000000e+00    0.000000   \n",
       "323    0.000000    0.0    0.0  1.462455e+01  6.009839e-01    0.496378   \n",
       "324    0.000000    0.0    0.0  0.000000e+00  1.527977e+02   43.620512   \n",
       "..          ...    ...    ...           ...           ...         ...   \n",
       "555    0.000037    0.0    0.0  5.010000e-07  1.330100e-05    0.000050   \n",
       "556    0.000000    0.0    0.0  0.000000e+00  9.120400e-05    0.000000   \n",
       "557    0.000000    0.0    0.0  0.000000e+00  3.380000e-07    0.000000   \n",
       "558    0.000000    0.0    0.0  3.431530e-04  2.300000e-07    0.000127   \n",
       "559    0.000000    0.0    0.0  4.000000e-08  5.639000e-06    0.000002   \n",
       "\n",
       "            URYs7       URYs8      URYs9        URYs10  ...  HNDs32  \\\n",
       "320  5.395932e+00  853.014767  89.621480  1.296646e+01  ...     0.0   \n",
       "321  3.000000e-09   81.137823   0.000000  0.000000e+00  ...     0.0   \n",
       "322  0.000000e+00    0.000000   0.000000  0.000000e+00  ...     0.0   \n",
       "323  4.194290e-02    0.276108   1.008360  1.458897e-01  ...     0.0   \n",
       "324  1.740193e-01   15.841509   0.000000  0.000000e+00  ...     0.0   \n",
       "..            ...         ...        ...           ...  ...     ...   \n",
       "555  1.380000e-06    0.000014   0.000009  1.291000e-06  ...     0.0   \n",
       "556  0.000000e+00    0.000000   0.000000  0.000000e+00  ...     0.0   \n",
       "557  0.000000e+00    0.000000   0.000000  0.000000e+00  ...     0.0   \n",
       "558  1.312069e-03    0.003952   0.000089  1.286100e-05  ...     0.0   \n",
       "559  8.950000e-07    0.000003   0.000005  7.590000e-07  ...     0.0   \n",
       "\n",
       "        HNDs33     HNDs34     HNDs35     HNDs36      HNDs37      HNDs38  \\\n",
       "320   0.000000   0.000000   0.000000   0.000000    0.000000    0.000000   \n",
       "321   0.000000   0.000000   0.000000   0.000000    0.000000    0.000000   \n",
       "322   0.000000   0.000000   0.000000   0.000000    0.000000    0.000000   \n",
       "323   0.000000   0.000000   0.000000   0.000000    0.000000    0.000000   \n",
       "324   0.000000   0.000000   0.000000   0.000000    0.000000    0.000000   \n",
       "..         ...        ...        ...        ...         ...         ...   \n",
       "555   2.649743  12.326201  18.620325  23.362732    7.437450    7.658895   \n",
       "556   0.963740   1.014234   1.396444  20.384268  152.695989   28.581332   \n",
       "557   2.642135  14.830566  12.494599  15.651193   19.860812  227.233277   \n",
       "558   3.939286  26.076691   1.037599   9.339317   41.241612   67.793374   \n",
       "559  11.799326  69.101794  76.451272  79.587389   73.786786   67.967766   \n",
       "\n",
       "        HNDs39      HNDs40       Output  \n",
       "320   0.000000    0.000000  7162.152659  \n",
       "321   0.000000    0.000000    96.356628  \n",
       "322   0.000000    0.000000     0.000000  \n",
       "323   0.000000    0.000000   356.350622  \n",
       "324   0.000000    0.000000  3136.101515  \n",
       "..         ...         ...          ...  \n",
       "555   2.751644   92.758600  1339.280794  \n",
       "556   5.049501  107.962132  1072.083390  \n",
       "557  15.026026  125.462728  1845.478262  \n",
       "558  20.867091  224.792542  1647.550113  \n",
       "559  39.838782  532.045787  9156.366631  \n",
       "\n",
       "[80 rows x 81 columns]"
      ]
     },
     "execution_count": 34,
     "metadata": {},
     "output_type": "execute_result"
    }
   ],
   "source": [
    "Zgenerica = filasuh[[col for col in filasuh.columns if col[:3]==\"HND\" or col[:3]== \"URY\" or col==\"Output\"]]\n",
    "Zgenerica"
   ]
  },
  {
   "cell_type": "code",
   "execution_count": 35,
   "metadata": {
    "colab": {
     "base_uri": "https://localhost:8080/"
    },
    "id": "dxM8NxJl_Dee",
    "outputId": "3cda9b07-b4a5-49f2-d551-d5f65e0f83dc"
   },
   "outputs": [],
   "source": [
    "p = Zgenerica[\"Output\"]\n",
    "p = p.to_numpy().reshape(-1,1)\n",
    "#print(p)\n",
    "#type(p)\n",
    "#p.shape"
   ]
  },
  {
   "cell_type": "markdown",
   "metadata": {
    "id": "VlppqyLw_xxo"
   },
   "source": [
    "item 2 matriz: matriz de insumo producto"
   ]
  },
  {
   "cell_type": "code",
   "execution_count": 42,
   "metadata": {
    "colab": {
     "base_uri": "https://localhost:8080/"
    },
    "id": "G8-sSbWF7ZYt",
    "outputId": "d9e138f5-7060-4c97-b1ec-4300a5a3c5c3"
   },
   "outputs": [
    {
     "data": {
      "text/plain": [
       "array([[486.067204  ,   0.        ,   0.        , ...,   0.        ,\n",
       "          0.        ,   0.        ],\n",
       "       [  0.        ,   0.        ,   0.        , ...,   0.        ,\n",
       "          0.        ,   0.        ],\n",
       "       [  0.        ,   0.        ,   0.        , ...,   0.        ,\n",
       "          0.        ,   0.        ],\n",
       "       ...,\n",
       "       [  0.        ,   0.        ,   0.        , ..., 227.23327693,\n",
       "         15.02602591, 125.46272841],\n",
       "       [  0.        ,   0.        ,   0.        , ...,  67.793374  ,\n",
       "         20.86709052, 224.79254197],\n",
       "       [  0.        ,   0.        ,   0.        , ...,  67.96776634,\n",
       "         39.8387819 , 532.0457871 ]])"
      ]
     },
     "execution_count": 42,
     "metadata": {},
     "output_type": "execute_result"
    }
   ],
   "source": [
    "Z7 = Zgenerica.drop(\"Output\", axis = 1)\n",
    "flujo = Z7.to_numpy()\n",
    "flujo # esta es la matriz de flujo (lo que nos pide el item 2)"
   ]
  },
  {
   "cell_type": "code",
   "execution_count": 44,
   "metadata": {
    "id": "l4y-nMUeC2k_"
   },
   "outputs": [],
   "source": [
    "#transformamos los ceros de la columna output en unos para que la matriz p no sea singular\n",
    "def ceros_a_unos(p):\n",
    "  for i in range(0,len(p)):\n",
    "    if p[i] == 0:\n",
    "      p[i] = 1\n",
    "  return p"
   ]
  },
  {
   "cell_type": "code",
   "execution_count": null,
   "metadata": {
    "colab": {
     "base_uri": "https://localhost:8080/"
    },
    "id": "GZBbLPwYEeMK",
    "outputId": "e0bd341e-7b5e-4f01-edb7-8120fc11f462",
    "scrolled": true
   },
   "outputs": [
    {
     "name": "stdout",
     "output_type": "stream",
     "text": [
      "[[7.16215266e+03]\n",
      " [9.63566280e+01]\n",
      " [1.00000000e+00]\n",
      " [3.56350622e+02]\n",
      " [3.13610152e+03]\n",
      " [1.73439827e+03]\n",
      " [1.31341938e+02]\n",
      " [2.83869169e+03]\n",
      " [7.12573927e+02]\n",
      " [2.85195254e+02]\n",
      " [4.50682923e+02]\n",
      " [3.32946414e+02]\n",
      " [4.03131716e+02]\n",
      " [5.13214227e+02]\n",
      " [1.55171570e+03]\n",
      " [1.55262802e+03]\n",
      " [6.13417464e+02]\n",
      " [3.92078281e+02]\n",
      " [4.17822123e+02]\n",
      " [9.11336307e+02]\n",
      " [5.22387455e+02]\n",
      " [2.36427061e+02]\n",
      " [5.46390739e+01]\n",
      " [7.07597141e+02]\n",
      " [4.90508869e+01]\n",
      " [1.29084057e+01]\n",
      " [2.36208222e+02]\n",
      " [2.23777665e+00]\n",
      " [1.49480692e+00]\n",
      " [4.57054246e+02]\n",
      " [1.00000000e+00]\n",
      " [2.11809891e+01]\n",
      " [3.51478145e+02]\n",
      " [1.66185142e+03]\n",
      " [7.93470791e+03]\n",
      " [3.97433135e+03]\n",
      " [1.77683973e+03]\n",
      " [2.76107988e+03]\n",
      " [3.14204175e+03]\n",
      " [2.97720602e+04]\n",
      " [3.58079794e+03]\n",
      " [2.22427933e+02]\n",
      " [1.00000000e+00]\n",
      " [3.12983124e+02]\n",
      " [1.92093980e+03]\n",
      " [9.23006132e+02]\n",
      " [3.27653050e+02]\n",
      " [1.69225088e+03]\n",
      " [6.97297181e+02]\n",
      " [1.64012632e+02]\n",
      " [1.51261440e+03]\n",
      " [3.56910825e+03]\n",
      " [4.52358289e+01]\n",
      " [2.54813890e+02]\n",
      " [2.81772207e+02]\n",
      " [1.00000000e+00]\n",
      " [4.20093344e+01]\n",
      " [2.60530721e+02]\n",
      " [9.74829277e+01]\n",
      " [2.45122168e+02]\n",
      " [3.91963478e+02]\n",
      " [1.00000000e+00]\n",
      " [1.00673130e+02]\n",
      " [2.66847041e+02]\n",
      " [7.13915171e+02]\n",
      " [1.00000000e+00]\n",
      " [1.00000000e+00]\n",
      " [1.00000000e+00]\n",
      " [1.00000000e+00]\n",
      " [1.00000000e+00]\n",
      " [1.00000000e+00]\n",
      " [1.00000000e+00]\n",
      " [1.87628235e+02]\n",
      " [1.11288085e+03]\n",
      " [2.13284012e+03]\n",
      " [1.33928079e+03]\n",
      " [1.07208339e+03]\n",
      " [1.84547826e+03]\n",
      " [1.64755011e+03]\n",
      " [9.15636663e+03]]\n"
     ]
    }
   ],
   "source": [
    "ceros_a_unos(p)"
   ]
  },
  {
   "cell_type": "code",
   "execution_count": 48,
   "metadata": {
    "id": "0nbqySiRCRPp"
   },
   "outputs": [],
   "source": [
    "uh = flujo[:40,40:] #matriz con ury como fil y hnd como col\n",
    "hu = flujo[40:,:40] #matriz con hnd como fil y ury como col\n",
    "hh = flujo[40:,40:] #matriz con hnd como fil y hnd como col\n",
    "uu = flujo[:40,:40] #matriz con ury como fil y ury como col"
   ]
  },
  {
   "cell_type": "code",
   "execution_count": 50,
   "metadata": {
    "colab": {
     "base_uri": "https://localhost:8080/"
    },
    "id": "yJ66koKVGvoF",
    "outputId": "f0c69ad8-2a9e-4c98-ef92-323e66780f2c"
   },
   "outputs": [],
   "source": [
    "# Armamos la matriz P para URY\n",
    "pu = p[:40]\n",
    "PU = pu.T*np.eye(pu.size)\n",
    "Lu, Uu, Pu = calcularLU(PU)\n",
    "invPU = inversaLU(Lu, Uu, Pu)"
   ]
  },
  {
   "cell_type": "code",
   "execution_count": 52,
   "metadata": {
    "colab": {
     "base_uri": "https://localhost:8080/"
    },
    "id": "hNY8OMpTHtlA",
    "outputId": "6e2b9926-ff10-4475-a526-3f898a460021"
   },
   "outputs": [],
   "source": [
    "# Armamos la matriz P para HND\n",
    "ph = p[40:]\n",
    "PH = ph.T*np.eye(ph.size)\n",
    "Lh, Uh, Ph = calcularLU(PH)\n",
    "invPH = inversaLU(Lh, Uh, Ph)"
   ]
  },
  {
   "cell_type": "markdown",
   "metadata": {
    "id": "sS_FepzoInIn"
   },
   "source": [
    "item 3: coeficientes para cada bloque"
   ]
  },
  {
   "cell_type": "code",
   "execution_count": 55,
   "metadata": {
    "id": "FZ2Nnx54Fn-y"
   },
   "outputs": [],
   "source": [
    "Auu = uu@invPU\n",
    "Ahh = hh@invPH\n",
    "Auh = uh@invPH\n",
    "Ahu = hu@invPU"
   ]
  },
  {
   "cell_type": "markdown",
   "metadata": {
    "id": "8LpingjbJFrY"
   },
   "source": [
    "item 4 y 5: shocks sobre URY (u=r, h=s)"
   ]
  },
  {
   "cell_type": "code",
   "execution_count": 58,
   "metadata": {
    "colab": {
     "base_uri": "https://localhost:8080/"
    },
    "id": "38isf8tePU2Q",
    "outputId": "79527f9f-c1ca-4b64-bd88-d894c51788df"
   },
   "outputs": [],
   "source": [
    "identidad = np.eye(Auu.shape[0]) #matriz identidad de 40x40"
   ]
  },
  {
   "cell_type": "markdown",
   "metadata": {},
   "source": [
    "Sistema abierto:\n",
    "\n",
    "$Δp{^r} = (I - A{^r}{^r} - A{^r}{^s}(I - A{^s}{^s}){^{-1}}){^{-1}} Δd{^r}$ (ecuacion 6)"
   ]
  },
  {
   "cell_type": "code",
   "execution_count": 61,
   "metadata": {
    "colab": {
     "base_uri": "https://localhost:8080/"
    },
    "id": "M3oH04F7J_w4",
    "outputId": "4750bbf0-8405-4f4d-f63f-c83da12a11b1"
   },
   "outputs": [],
   "source": [
    "# multiplicamos las matrices por la columna output para conseguir la demanda de cada submatriz\n",
    "Ouu = (identidad - Auu)@pu\n",
    "Ohh = (identidad - Ahh)@ph\n",
    "Ouh = (0-Auh)@ph\n",
    "Ohu = (0-Ahu)@pu\n",
    "\n",
    "Du = (Ouu + Ouh)\n",
    "Dh = (Ohu + Ohh)"
   ]
  },
  {
   "cell_type": "code",
   "execution_count": 63,
   "metadata": {
    "id": "w_TCh9LyO1ge"
   },
   "outputs": [],
   "source": [
    "auu5 = Du[4] # corresponde a la fila del sector 05 de Uruguay (con Uruguay)\n",
    "auh5 = Dh[4] # corresponde a la fila del sector 05 de Uruguay (con Honduras)\n",
    "\n",
    "auu6 = Du[5] # corresponde a la fila del sector 06 de Uruguay (con Uruguay)\n",
    "auh6 = Dh[5] # corresponde a la fila del sector 06 de Uruguay (con Honduras)\n",
    "\n",
    "auu7 = Du[6] # corresponde a la fila del sector 07 de Uruguay (con Uruguay)\n",
    "auh7 = Dh[6] # corresponde a la fila del sector 07 de Uruguay (con Honduras)\n",
    "\n",
    "auu8 = Du[7] # corresponde a la fila del sector 08 de Uruguay (con Uruguay)\n",
    "auh8 = Dh[7] # corresponde a la fila del sector 08 de Uruguay (con Honduras)"
   ]
  },
  {
   "cell_type": "code",
   "execution_count": 65,
   "metadata": {
    "id": "GNnWaio4ISlu"
   },
   "outputs": [],
   "source": [
    "def shock(a, s): # s es el porcentaje correspondiente al shock\n",
    "  for i in range(0, a.size):\n",
    "    a[i] = s*a[i] # acá le estamos restando el 10% (o sumando el 3,3%)\n",
    "  return a"
   ]
  },
  {
   "cell_type": "code",
   "execution_count": 67,
   "metadata": {
    "id": "tZlN6rncUOUY"
   },
   "outputs": [],
   "source": [
    "du = Du.copy()\n",
    "dh = Dh.copy()"
   ]
  },
  {
   "cell_type": "code",
   "execution_count": 69,
   "metadata": {
    "colab": {
     "base_uri": "https://localhost:8080/"
    },
    "id": "723sbgxLVeBq",
    "outputId": "de875e41-d6cc-495d-bcad-6a16cfff830d",
    "scrolled": true
   },
   "outputs": [
    {
     "data": {
      "text/plain": [
       "array([[ True],\n",
       "       [ True],\n",
       "       [ True],\n",
       "       [ True],\n",
       "       [False],\n",
       "       [False],\n",
       "       [False],\n",
       "       [False],\n",
       "       [ True],\n",
       "       [ True],\n",
       "       [ True],\n",
       "       [ True],\n",
       "       [ True],\n",
       "       [ True],\n",
       "       [ True],\n",
       "       [ True],\n",
       "       [ True],\n",
       "       [ True],\n",
       "       [ True],\n",
       "       [ True],\n",
       "       [ True],\n",
       "       [ True],\n",
       "       [ True],\n",
       "       [ True],\n",
       "       [ True],\n",
       "       [ True],\n",
       "       [ True],\n",
       "       [ True],\n",
       "       [ True],\n",
       "       [ True],\n",
       "       [ True],\n",
       "       [ True],\n",
       "       [ True],\n",
       "       [ True],\n",
       "       [ True],\n",
       "       [ True],\n",
       "       [ True],\n",
       "       [ True],\n",
       "       [ True],\n",
       "       [ True]])"
      ]
     },
     "execution_count": 69,
     "metadata": {},
     "output_type": "execute_result"
    }
   ],
   "source": [
    "du[4] = shock(du[4], 0.90) # reemplazamos la fila con el shock del 10 porciento por la fila original\n",
    "dh[4] = shock(dh[4], 0.90)\n",
    "du[5] = shock(du[5], 1.033)\n",
    "dh[5] = shock(dh[5], 1.033)\n",
    "du[6] = shock(du[6], 1.033)\n",
    "dh[6] = shock(dh[6], 1.033)\n",
    "du[7] = shock(du[7], 1.033)\n",
    "dh[7] = shock(dh[7], 1.033)\n",
    "\n",
    "# el 10% de shock negativo corresponde al 0.90 del total\n",
    "# el 3.3% de shock positivo corresponde al 1.033 del total\n",
    "Du==du\n",
    "# du es la demanda con el shock\n",
    "# Observamos que las únicas posiciones que cambian son a las que les aplicamos los shocks."
   ]
  },
  {
   "cell_type": "code",
   "execution_count": 71,
   "metadata": {
    "colab": {
     "base_uri": "https://localhost:8080/"
    },
    "id": "GHNZi86YXCEq",
    "outputId": "0b839f65-d9af-42a5-f0ca-123a67d07e8b"
   },
   "outputs": [],
   "source": [
    "delta_du = du - Du"
   ]
  },
  {
   "cell_type": "code",
   "execution_count": null,
   "metadata": {
    "colab": {
     "base_uri": "https://localhost:8080/"
    },
    "id": "Z-rXBt3lZK3p",
    "outputId": "4a8d1171-ad7c-480f-e947-35935787083e",
    "scrolled": true
   },
   "outputs": [
    {
     "data": {
      "text/plain": [
       "array([[-1.34219845e+02],\n",
       "       [ 2.32852689e+00],\n",
       "       [ 0.00000000e+00],\n",
       "       [-2.75657119e-01],\n",
       "       [-2.76248828e+02],\n",
       "       [ 4.84935734e+01],\n",
       "       [ 3.83512388e+00],\n",
       "       [ 8.14691176e+01],\n",
       "       [-5.20456444e-02],\n",
       "       [-2.08303591e-02],\n",
       "       [-5.16197867e-03],\n",
       "       [-1.89948802e-01],\n",
       "       [-3.45709077e-03],\n",
       "       [-9.93389818e-01],\n",
       "       [-4.40526509e-01],\n",
       "       [-2.28020716e+00],\n",
       "       [-2.68892027e+00],\n",
       "       [-1.71867823e+00],\n",
       "       [-7.88455504e-01],\n",
       "       [-1.89393867e-01],\n",
       "       [-2.00886378e-02],\n",
       "       [-7.58508427e-02],\n",
       "       [-1.75293801e-02],\n",
       "       [-2.27012252e-01],\n",
       "       [-1.57365705e-02],\n",
       "       [-4.14129175e-03],\n",
       "       [-7.57806347e-02],\n",
       "       [-7.17926440e-04],\n",
       "       [-4.79565908e-04],\n",
       "       [-7.94905363e-02],\n",
       "       [ 0.00000000e+00],\n",
       "       [-3.68378190e-03],\n",
       "       [-7.44190714e-03],\n",
       "       [-2.47176380e+00],\n",
       "       [-2.58873223e+00],\n",
       "       [-1.09687425e+01],\n",
       "       [-2.51611195e-01],\n",
       "       [-5.86437012e+00],\n",
       "       [-2.83617210e+00],\n",
       "       [-1.33955136e+01]])"
      ]
     },
     "execution_count": 73,
     "metadata": {},
     "output_type": "execute_result"
    }
   ],
   "source": [
    "luu, uuu, puu = calcularLU((identidad - Auu))\n",
    "delta_pu5 = inversaLU(luu, uuu, puu)@delta_du\n"
   ]
  },
  {
   "cell_type": "code",
   "execution_count": 75,
   "metadata": {
    "id": "k0om0zmEXZ9b"
   },
   "outputs": [],
   "source": [
    "lhh, uhh, phh = calcularLU((identidad - Ahh))\n",
    "ltotal, utotal, ptotal = calcularLU(identidad - Auu - Auh@(inversaLU(lhh, uhh, phh))@Ahu)"
   ]
  },
  {
   "cell_type": "code",
   "execution_count": 77,
   "metadata": {
    "colab": {
     "base_uri": "https://localhost:8080/"
    },
    "id": "Qb54a_rzZaCv",
    "outputId": "c8851d5c-cbfd-4ba3-f614-0bb06a7fe996",
    "scrolled": true
   },
   "outputs": [],
   "source": [
    "delta_pu6 = (inversaLU(ltotal, utotal, ptotal))@delta_du"
   ]
  },
  {
   "cell_type": "markdown",
   "metadata": {},
   "source": [
    "Sistema cerrado:\n",
    "\n",
    "$Δp{^r} = (I - A{^r}{^r}){^{-1}} Δd{^r}$ (ecuacion 5)"
   ]
  },
  {
   "cell_type": "code",
   "execution_count": 80,
   "metadata": {
    "scrolled": true
   },
   "outputs": [
    {
     "data": {
      "text/plain": [
       "array([[ True],\n",
       "       [ True],\n",
       "       [ True],\n",
       "       [ True],\n",
       "       [False],\n",
       "       [False],\n",
       "       [False],\n",
       "       [False],\n",
       "       [ True],\n",
       "       [ True],\n",
       "       [ True],\n",
       "       [ True],\n",
       "       [ True],\n",
       "       [ True],\n",
       "       [ True],\n",
       "       [ True],\n",
       "       [ True],\n",
       "       [ True],\n",
       "       [ True],\n",
       "       [ True],\n",
       "       [ True],\n",
       "       [ True],\n",
       "       [ True],\n",
       "       [ True],\n",
       "       [ True],\n",
       "       [ True],\n",
       "       [ True],\n",
       "       [ True],\n",
       "       [ True],\n",
       "       [ True],\n",
       "       [ True],\n",
       "       [ True],\n",
       "       [ True],\n",
       "       [ True],\n",
       "       [ True],\n",
       "       [ True],\n",
       "       [ True],\n",
       "       [ True],\n",
       "       [ True],\n",
       "       [ True]])"
      ]
     },
     "execution_count": 80,
     "metadata": {},
     "output_type": "execute_result"
    }
   ],
   "source": [
    "Dusc = Ouu.copy() #demanda del sistema cerrado sin el shock aplicado\n",
    "dusc = Dusc.copy()\n",
    "\n",
    "dusc[4] = shock(dusc[4], 0.90) # reemplazamos la fila con el shock del 10 porciento por la fila original\n",
    "dusc[5] = shock(dusc[5], 1.033)\n",
    "dusc[6] = shock(dusc[6], 1.033)\n",
    "dusc[7] = shock(dusc[7], 1.033)\n",
    "\n",
    "# el 10% de shock negativo corresponde al 0.90 del total\n",
    "# el 3.3% de shock positivo corresponde al 1.033 del total\n",
    "Dusc==dusc\n",
    "# du es la demanda con el shock\n",
    "# Observamos que nuevamente las únicas posiciones que cambian son a las que les aplicamos los shocks."
   ]
  },
  {
   "cell_type": "code",
   "execution_count": 82,
   "metadata": {
    "scrolled": true
   },
   "outputs": [],
   "source": [
    "delta_dusc = dusc - Dusc\n",
    "\n",
    "lsc, usc, psc = calcularLU((identidad - Ouu)) #Calculamos L, U y P para el sistema cerrado\n",
    "delta_pusc = inversaLU(lsc, usc, psc)@delta_dusc"
   ]
  },
  {
   "cell_type": "markdown",
   "metadata": {},
   "source": [
    "### Graficamos"
   ]
  },
  {
   "cell_type": "code",
   "execution_count": 85,
   "metadata": {},
   "outputs": [
    {
     "data": {
      "image/png": "[encoded data removed]",
      "text/plain": [
       "<Figure size 640x480 with 1 Axes>"
      ]
     },
     "metadata": {},
     "output_type": "display_data"
    },
    {
     "data": {
      "image/png": "[encoded data removed]",
      "text/plain": [
       "<Figure size 640x480 with 1 Axes>"
      ]
     },
     "metadata": {},
     "output_type": "display_data"
    }
   ],
   "source": [
    "plt.scatter(range(40), delta_pusc,c=\"red\",label=\"Sistema cerrado\")\n",
    "plt.ylabel(\"Producción\")\n",
    "plt.xlabel(\"Sectores\")\n",
    "plt.title(\"Modelo de Sistema cerrado\")\n",
    "plt.grid()\n",
    "plt.ylim(-300,100)\n",
    "plt.xlim(0,40)\n",
    "plt.show()\n",
    "\n",
    "plt.scatter(range(40), delta_pu6,c=\"blue\",label=\"Sistema abierto\")\n",
    "plt.ylabel(\"Producción\")\n",
    "plt.xlabel(\"Sectores\")\n",
    "plt.title(\"Modelo de Sistema abierto\")\n",
    "plt.grid()\n",
    "plt.ylim(-300,100)\n",
    "plt.xlim(0,40)\n",
    "plt.show()"
   ]
  },
  {
   "cell_type": "code",
   "execution_count": 86,
   "metadata": {},
   "outputs": [
    {
     "data": {
      "image/png": "[encoded data removed]",
      "text/plain": [
       "<Figure size 640x480 with 1 Axes>"
      ]
     },
     "metadata": {},
     "output_type": "display_data"
    }
   ],
   "source": [
    "plt.scatter(range(40), delta_pusc,c=\"red\",label=\"Sistema cerrado\")\n",
    "plt.scatter(range(40), delta_pu6,c=\"blue\",marker=\"x\",label=\"Sistema abierto\")\n",
    "plt.ylabel(\"Producción\")\n",
    "plt.xlabel(\"Sectores\")\n",
    "plt.title(\"Modelo de Sistema cerrado vs Sistema abierto\")\n",
    "plt.grid()\n",
    "plt.legend()\n",
    "plt.ylim(-300,100)\n",
    "plt.xlim(0,40)\n",
    "plt.show()"
   ]
  },
  {
   "cell_type": "markdown",
   "metadata": {
    "id": "jLj6uXmNAFRl"
   },
   "source": [
    "Observando los delta p obtenidos con la ecuación 5 (la que representa sistemas cerrados, es decir, sin tener en cuenta la demanda externa de cada región), y la ecuación 6 (la que representa economías abiertas, es decir, que considera las relaciones inter-regionales), vemos que las diferencias afectan más a los últimos sectores. Esto podría indicarnos que la demanda externa influye mayormente en los sectores mencionados.\n",
    "\n",
    "También consideramos, que al haber aplicado un shock relativamente pequeño a pocas variables (4 de 40), tiene sentido que p no se altere demasiado."
   ]
  },
  {
   "cell_type": "markdown",
   "metadata": {},
   "source": [
    "### Grafico de barras"
   ]
  },
  {
   "cell_type": "code",
   "execution_count": 91,
   "metadata": {},
   "outputs": [],
   "source": [
    "Dpusc = delta_pusc.reshape(-1)\n",
    "Dpu6 = delta_pu6.reshape(-1)"
   ]
  },
  {
   "cell_type": "code",
   "execution_count": 93,
   "metadata": {},
   "outputs": [
    {
     "data": {
      "image/png": "[encoded data removed]",
      "text/plain": [
       "<Figure size 640x480 with 1 Axes>"
      ]
     },
     "metadata": {},
     "output_type": "display_data"
    }
   ],
   "source": [
    "x = np.arange(40)\n",
    "width = 0.8\n",
    "#para que no se superpongan las columnas:\n",
    "x1 = x - width / 2\n",
    "x2 = x + width / 2\n",
    "plt.bar(x1, Dpusc, width=width, color=\"red\", label=\"Sistema cerrado\")\n",
    "plt.bar(x2, Dpu6, width=width, color=\"blue\", label=\"Sistema abierto\")\n",
    "plt.title(\"Modelo de Sistema cerrado vs Sistema abierto\")\n",
    "plt.xlabel(\"Sectores\")\n",
    "plt.ylabel(\"Producción\")\n",
    "plt.ylim(-300, 100)\n",
    "plt.xlim(0, 40)\n",
    "plt.grid()\n",
    "plt.legend()\n",
    "plt.show()"
   ]
  }
 ],
 "metadata": {
  "colab": {
   "provenance": []
  },
  "kernelspec": {
   "display_name": "Python 3 (ipykernel)",
   "language": "python",
   "name": "python3"
  },
  "language_info": {
   "codemirror_mode": {
    "name": "ipython",
    "version": 3
   },
   "file_extension": ".py",
   "mimetype": "text/x-python",
   "name": "python",
   "nbconvert_exporter": "python",
   "pygments_lexer": "ipython3",
   "version": "3.11.7"
  }
 },
 "nbformat": 4,
 "nbformat_minor": 4
}
